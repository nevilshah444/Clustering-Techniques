{
  "nbformat": 4,
  "nbformat_minor": 0,
  "metadata": {
    "colab": {
      "name": "KMeans.ipynb",
      "provenance": [],
      "collapsed_sections": [],
      "authorship_tag": "ABX9TyP8GTfGUpT6nV6ythVpbZvM",
      "include_colab_link": true
    },
    "kernelspec": {
      "name": "python3",
      "display_name": "Python 3"
    },
    "language_info": {
      "name": "python"
    }
  },
  "cells": [
    {
      "cell_type": "markdown",
      "metadata": {
        "id": "view-in-github",
        "colab_type": "text"
      },
      "source": [
        "<a href=\"https://colab.research.google.com/github/nevilshah444/Clustering-Techniques/blob/main/KMeans.ipynb\" target=\"_parent\"><img src=\"https://colab.research.google.com/assets/colab-badge.svg\" alt=\"Open In Colab\"/></a>"
      ]
    },
    {
      "cell_type": "markdown",
      "metadata": {
        "id": "HTmL62dKWBg-"
      },
      "source": [
        "**CMPE 255 : Clustering Assignment**\n",
        "\n",
        "K-means from scratch"
      ]
    },
    {
      "cell_type": "markdown",
      "metadata": {
        "id": "mOi4mbhYW0g6"
      },
      "source": [
        "#Importing the libraries"
      ]
    },
    {
      "cell_type": "code",
      "metadata": {
        "id": "B-lLZfZBVVIF"
      },
      "source": [
        "import numpy as np\n",
        "import pandas as pd\n",
        "import matplotlib.pyplot as plt\n",
        "from scipy.spatial.distance import cdist \n",
        "from sklearn.datasets import load_breast_cancer\n",
        "from sklearn.decomposition import PCA\n",
        "\n"
      ],
      "execution_count": 1,
      "outputs": []
    },
    {
      "cell_type": "code",
      "metadata": {
        "id": "lxR0R_ixXQqv"
      },
      "source": [
        "cancer=load_breast_cancer()\n",
        "Data= pd.DataFrame(data=cancer.data, columns=cancer.feature_names)\n",
        "X= Data.values\n",
        "y= cancer.target\n"
      ],
      "execution_count": 2,
      "outputs": []
    },
    {
      "cell_type": "code",
      "metadata": {
        "colab": {
          "base_uri": "https://localhost:8080/",
          "height": 261
        },
        "id": "JD-Z2DSvXlE1",
        "outputId": "f56935e0-9e95-4550-8803-f070f93078b7"
      },
      "source": [
        "#Lets have a quick look at the dataset\n",
        "Data.head()"
      ],
      "execution_count": 3,
      "outputs": [
        {
          "output_type": "execute_result",
          "data": {
            "text/html": [
              "<div>\n",
              "<style scoped>\n",
              "    .dataframe tbody tr th:only-of-type {\n",
              "        vertical-align: middle;\n",
              "    }\n",
              "\n",
              "    .dataframe tbody tr th {\n",
              "        vertical-align: top;\n",
              "    }\n",
              "\n",
              "    .dataframe thead th {\n",
              "        text-align: right;\n",
              "    }\n",
              "</style>\n",
              "<table border=\"1\" class=\"dataframe\">\n",
              "  <thead>\n",
              "    <tr style=\"text-align: right;\">\n",
              "      <th></th>\n",
              "      <th>mean radius</th>\n",
              "      <th>mean texture</th>\n",
              "      <th>mean perimeter</th>\n",
              "      <th>mean area</th>\n",
              "      <th>mean smoothness</th>\n",
              "      <th>mean compactness</th>\n",
              "      <th>mean concavity</th>\n",
              "      <th>mean concave points</th>\n",
              "      <th>mean symmetry</th>\n",
              "      <th>mean fractal dimension</th>\n",
              "      <th>radius error</th>\n",
              "      <th>texture error</th>\n",
              "      <th>perimeter error</th>\n",
              "      <th>area error</th>\n",
              "      <th>smoothness error</th>\n",
              "      <th>compactness error</th>\n",
              "      <th>concavity error</th>\n",
              "      <th>concave points error</th>\n",
              "      <th>symmetry error</th>\n",
              "      <th>fractal dimension error</th>\n",
              "      <th>worst radius</th>\n",
              "      <th>worst texture</th>\n",
              "      <th>worst perimeter</th>\n",
              "      <th>worst area</th>\n",
              "      <th>worst smoothness</th>\n",
              "      <th>worst compactness</th>\n",
              "      <th>worst concavity</th>\n",
              "      <th>worst concave points</th>\n",
              "      <th>worst symmetry</th>\n",
              "      <th>worst fractal dimension</th>\n",
              "    </tr>\n",
              "  </thead>\n",
              "  <tbody>\n",
              "    <tr>\n",
              "      <th>0</th>\n",
              "      <td>17.99</td>\n",
              "      <td>10.38</td>\n",
              "      <td>122.80</td>\n",
              "      <td>1001.0</td>\n",
              "      <td>0.11840</td>\n",
              "      <td>0.27760</td>\n",
              "      <td>0.3001</td>\n",
              "      <td>0.14710</td>\n",
              "      <td>0.2419</td>\n",
              "      <td>0.07871</td>\n",
              "      <td>1.0950</td>\n",
              "      <td>0.9053</td>\n",
              "      <td>8.589</td>\n",
              "      <td>153.40</td>\n",
              "      <td>0.006399</td>\n",
              "      <td>0.04904</td>\n",
              "      <td>0.05373</td>\n",
              "      <td>0.01587</td>\n",
              "      <td>0.03003</td>\n",
              "      <td>0.006193</td>\n",
              "      <td>25.38</td>\n",
              "      <td>17.33</td>\n",
              "      <td>184.60</td>\n",
              "      <td>2019.0</td>\n",
              "      <td>0.1622</td>\n",
              "      <td>0.6656</td>\n",
              "      <td>0.7119</td>\n",
              "      <td>0.2654</td>\n",
              "      <td>0.4601</td>\n",
              "      <td>0.11890</td>\n",
              "    </tr>\n",
              "    <tr>\n",
              "      <th>1</th>\n",
              "      <td>20.57</td>\n",
              "      <td>17.77</td>\n",
              "      <td>132.90</td>\n",
              "      <td>1326.0</td>\n",
              "      <td>0.08474</td>\n",
              "      <td>0.07864</td>\n",
              "      <td>0.0869</td>\n",
              "      <td>0.07017</td>\n",
              "      <td>0.1812</td>\n",
              "      <td>0.05667</td>\n",
              "      <td>0.5435</td>\n",
              "      <td>0.7339</td>\n",
              "      <td>3.398</td>\n",
              "      <td>74.08</td>\n",
              "      <td>0.005225</td>\n",
              "      <td>0.01308</td>\n",
              "      <td>0.01860</td>\n",
              "      <td>0.01340</td>\n",
              "      <td>0.01389</td>\n",
              "      <td>0.003532</td>\n",
              "      <td>24.99</td>\n",
              "      <td>23.41</td>\n",
              "      <td>158.80</td>\n",
              "      <td>1956.0</td>\n",
              "      <td>0.1238</td>\n",
              "      <td>0.1866</td>\n",
              "      <td>0.2416</td>\n",
              "      <td>0.1860</td>\n",
              "      <td>0.2750</td>\n",
              "      <td>0.08902</td>\n",
              "    </tr>\n",
              "    <tr>\n",
              "      <th>2</th>\n",
              "      <td>19.69</td>\n",
              "      <td>21.25</td>\n",
              "      <td>130.00</td>\n",
              "      <td>1203.0</td>\n",
              "      <td>0.10960</td>\n",
              "      <td>0.15990</td>\n",
              "      <td>0.1974</td>\n",
              "      <td>0.12790</td>\n",
              "      <td>0.2069</td>\n",
              "      <td>0.05999</td>\n",
              "      <td>0.7456</td>\n",
              "      <td>0.7869</td>\n",
              "      <td>4.585</td>\n",
              "      <td>94.03</td>\n",
              "      <td>0.006150</td>\n",
              "      <td>0.04006</td>\n",
              "      <td>0.03832</td>\n",
              "      <td>0.02058</td>\n",
              "      <td>0.02250</td>\n",
              "      <td>0.004571</td>\n",
              "      <td>23.57</td>\n",
              "      <td>25.53</td>\n",
              "      <td>152.50</td>\n",
              "      <td>1709.0</td>\n",
              "      <td>0.1444</td>\n",
              "      <td>0.4245</td>\n",
              "      <td>0.4504</td>\n",
              "      <td>0.2430</td>\n",
              "      <td>0.3613</td>\n",
              "      <td>0.08758</td>\n",
              "    </tr>\n",
              "    <tr>\n",
              "      <th>3</th>\n",
              "      <td>11.42</td>\n",
              "      <td>20.38</td>\n",
              "      <td>77.58</td>\n",
              "      <td>386.1</td>\n",
              "      <td>0.14250</td>\n",
              "      <td>0.28390</td>\n",
              "      <td>0.2414</td>\n",
              "      <td>0.10520</td>\n",
              "      <td>0.2597</td>\n",
              "      <td>0.09744</td>\n",
              "      <td>0.4956</td>\n",
              "      <td>1.1560</td>\n",
              "      <td>3.445</td>\n",
              "      <td>27.23</td>\n",
              "      <td>0.009110</td>\n",
              "      <td>0.07458</td>\n",
              "      <td>0.05661</td>\n",
              "      <td>0.01867</td>\n",
              "      <td>0.05963</td>\n",
              "      <td>0.009208</td>\n",
              "      <td>14.91</td>\n",
              "      <td>26.50</td>\n",
              "      <td>98.87</td>\n",
              "      <td>567.7</td>\n",
              "      <td>0.2098</td>\n",
              "      <td>0.8663</td>\n",
              "      <td>0.6869</td>\n",
              "      <td>0.2575</td>\n",
              "      <td>0.6638</td>\n",
              "      <td>0.17300</td>\n",
              "    </tr>\n",
              "    <tr>\n",
              "      <th>4</th>\n",
              "      <td>20.29</td>\n",
              "      <td>14.34</td>\n",
              "      <td>135.10</td>\n",
              "      <td>1297.0</td>\n",
              "      <td>0.10030</td>\n",
              "      <td>0.13280</td>\n",
              "      <td>0.1980</td>\n",
              "      <td>0.10430</td>\n",
              "      <td>0.1809</td>\n",
              "      <td>0.05883</td>\n",
              "      <td>0.7572</td>\n",
              "      <td>0.7813</td>\n",
              "      <td>5.438</td>\n",
              "      <td>94.44</td>\n",
              "      <td>0.011490</td>\n",
              "      <td>0.02461</td>\n",
              "      <td>0.05688</td>\n",
              "      <td>0.01885</td>\n",
              "      <td>0.01756</td>\n",
              "      <td>0.005115</td>\n",
              "      <td>22.54</td>\n",
              "      <td>16.67</td>\n",
              "      <td>152.20</td>\n",
              "      <td>1575.0</td>\n",
              "      <td>0.1374</td>\n",
              "      <td>0.2050</td>\n",
              "      <td>0.4000</td>\n",
              "      <td>0.1625</td>\n",
              "      <td>0.2364</td>\n",
              "      <td>0.07678</td>\n",
              "    </tr>\n",
              "  </tbody>\n",
              "</table>\n",
              "</div>"
            ],
            "text/plain": [
              "   mean radius  mean texture  ...  worst symmetry  worst fractal dimension\n",
              "0        17.99         10.38  ...          0.4601                  0.11890\n",
              "1        20.57         17.77  ...          0.2750                  0.08902\n",
              "2        19.69         21.25  ...          0.3613                  0.08758\n",
              "3        11.42         20.38  ...          0.6638                  0.17300\n",
              "4        20.29         14.34  ...          0.2364                  0.07678\n",
              "\n",
              "[5 rows x 30 columns]"
            ]
          },
          "metadata": {},
          "execution_count": 3
        }
      ]
    },
    {
      "cell_type": "code",
      "metadata": {
        "colab": {
          "base_uri": "https://localhost:8080/"
        },
        "id": "EYQZ0Xk_XtEZ",
        "outputId": "f22a6064-914c-48f4-e125-d236d398110f"
      },
      "source": [
        "#target names of this dataset\n",
        "cancer.target_names"
      ],
      "execution_count": 6,
      "outputs": [
        {
          "output_type": "execute_result",
          "data": {
            "text/plain": [
              "array(['malignant', 'benign'], dtype='<U9')"
            ]
          },
          "metadata": {},
          "execution_count": 6
        }
      ]
    },
    {
      "cell_type": "code",
      "metadata": {
        "colab": {
          "base_uri": "https://localhost:8080/"
        },
        "id": "HE2qPrVeXzUr",
        "outputId": "b88cde1e-26ea-4a51-9977-05241150897d"
      },
      "source": [
        "X.shape\n",
        "#569 rows and 30 columns"
      ],
      "execution_count": 7,
      "outputs": [
        {
          "output_type": "execute_result",
          "data": {
            "text/plain": [
              "(569, 30)"
            ]
          },
          "metadata": {},
          "execution_count": 7
        }
      ]
    },
    {
      "cell_type": "markdown",
      "metadata": {
        "id": "n3Vr8LnUX6a5"
      },
      "source": [
        "#Data Transformation"
      ]
    },
    {
      "cell_type": "code",
      "metadata": {
        "colab": {
          "base_uri": "https://localhost:8080/",
          "height": 261
        },
        "id": "_MX-zerzXzXE",
        "outputId": "b610c1c1-78d4-4767-9555-cff4eee3b711"
      },
      "source": [
        "from sklearn.preprocessing import normalize\n",
        "\n",
        "scale = normalize(X)\n",
        "scale = pd.DataFrame(scale,columns=Data.columns)\n",
        "scale.head()"
      ],
      "execution_count": 9,
      "outputs": [
        {
          "output_type": "execute_result",
          "data": {
            "text/html": [
              "<div>\n",
              "<style scoped>\n",
              "    .dataframe tbody tr th:only-of-type {\n",
              "        vertical-align: middle;\n",
              "    }\n",
              "\n",
              "    .dataframe tbody tr th {\n",
              "        vertical-align: top;\n",
              "    }\n",
              "\n",
              "    .dataframe thead th {\n",
              "        text-align: right;\n",
              "    }\n",
              "</style>\n",
              "<table border=\"1\" class=\"dataframe\">\n",
              "  <thead>\n",
              "    <tr style=\"text-align: right;\">\n",
              "      <th></th>\n",
              "      <th>mean radius</th>\n",
              "      <th>mean texture</th>\n",
              "      <th>mean perimeter</th>\n",
              "      <th>mean area</th>\n",
              "      <th>mean smoothness</th>\n",
              "      <th>mean compactness</th>\n",
              "      <th>mean concavity</th>\n",
              "      <th>mean concave points</th>\n",
              "      <th>mean symmetry</th>\n",
              "      <th>mean fractal dimension</th>\n",
              "      <th>radius error</th>\n",
              "      <th>texture error</th>\n",
              "      <th>perimeter error</th>\n",
              "      <th>area error</th>\n",
              "      <th>smoothness error</th>\n",
              "      <th>compactness error</th>\n",
              "      <th>concavity error</th>\n",
              "      <th>concave points error</th>\n",
              "      <th>symmetry error</th>\n",
              "      <th>fractal dimension error</th>\n",
              "      <th>worst radius</th>\n",
              "      <th>worst texture</th>\n",
              "      <th>worst perimeter</th>\n",
              "      <th>worst area</th>\n",
              "      <th>worst smoothness</th>\n",
              "      <th>worst compactness</th>\n",
              "      <th>worst concavity</th>\n",
              "      <th>worst concave points</th>\n",
              "      <th>worst symmetry</th>\n",
              "      <th>worst fractal dimension</th>\n",
              "    </tr>\n",
              "  </thead>\n",
              "  <tbody>\n",
              "    <tr>\n",
              "      <th>0</th>\n",
              "      <td>0.007925</td>\n",
              "      <td>0.004573</td>\n",
              "      <td>0.054099</td>\n",
              "      <td>0.440986</td>\n",
              "      <td>0.000052</td>\n",
              "      <td>0.000122</td>\n",
              "      <td>0.000132</td>\n",
              "      <td>0.000065</td>\n",
              "      <td>0.000107</td>\n",
              "      <td>0.000035</td>\n",
              "      <td>0.000482</td>\n",
              "      <td>0.000399</td>\n",
              "      <td>0.003784</td>\n",
              "      <td>0.067580</td>\n",
              "      <td>0.000003</td>\n",
              "      <td>0.000022</td>\n",
              "      <td>0.000024</td>\n",
              "      <td>0.000007</td>\n",
              "      <td>0.000013</td>\n",
              "      <td>0.000003</td>\n",
              "      <td>0.011181</td>\n",
              "      <td>0.007635</td>\n",
              "      <td>0.081325</td>\n",
              "      <td>0.889462</td>\n",
              "      <td>0.000071</td>\n",
              "      <td>0.000293</td>\n",
              "      <td>0.000314</td>\n",
              "      <td>0.000117</td>\n",
              "      <td>0.000203</td>\n",
              "      <td>0.000052</td>\n",
              "    </tr>\n",
              "    <tr>\n",
              "      <th>1</th>\n",
              "      <td>0.008666</td>\n",
              "      <td>0.007486</td>\n",
              "      <td>0.055988</td>\n",
              "      <td>0.558619</td>\n",
              "      <td>0.000036</td>\n",
              "      <td>0.000033</td>\n",
              "      <td>0.000037</td>\n",
              "      <td>0.000030</td>\n",
              "      <td>0.000076</td>\n",
              "      <td>0.000024</td>\n",
              "      <td>0.000229</td>\n",
              "      <td>0.000309</td>\n",
              "      <td>0.001432</td>\n",
              "      <td>0.031209</td>\n",
              "      <td>0.000002</td>\n",
              "      <td>0.000006</td>\n",
              "      <td>0.000008</td>\n",
              "      <td>0.000006</td>\n",
              "      <td>0.000006</td>\n",
              "      <td>0.000001</td>\n",
              "      <td>0.010528</td>\n",
              "      <td>0.009862</td>\n",
              "      <td>0.066899</td>\n",
              "      <td>0.824026</td>\n",
              "      <td>0.000052</td>\n",
              "      <td>0.000079</td>\n",
              "      <td>0.000102</td>\n",
              "      <td>0.000078</td>\n",
              "      <td>0.000116</td>\n",
              "      <td>0.000038</td>\n",
              "    </tr>\n",
              "    <tr>\n",
              "      <th>2</th>\n",
              "      <td>0.009367</td>\n",
              "      <td>0.010109</td>\n",
              "      <td>0.061842</td>\n",
              "      <td>0.572276</td>\n",
              "      <td>0.000052</td>\n",
              "      <td>0.000076</td>\n",
              "      <td>0.000094</td>\n",
              "      <td>0.000061</td>\n",
              "      <td>0.000098</td>\n",
              "      <td>0.000029</td>\n",
              "      <td>0.000355</td>\n",
              "      <td>0.000374</td>\n",
              "      <td>0.002181</td>\n",
              "      <td>0.044731</td>\n",
              "      <td>0.000003</td>\n",
              "      <td>0.000019</td>\n",
              "      <td>0.000018</td>\n",
              "      <td>0.000010</td>\n",
              "      <td>0.000011</td>\n",
              "      <td>0.000002</td>\n",
              "      <td>0.011212</td>\n",
              "      <td>0.012145</td>\n",
              "      <td>0.072545</td>\n",
              "      <td>0.812984</td>\n",
              "      <td>0.000069</td>\n",
              "      <td>0.000202</td>\n",
              "      <td>0.000214</td>\n",
              "      <td>0.000116</td>\n",
              "      <td>0.000172</td>\n",
              "      <td>0.000042</td>\n",
              "    </tr>\n",
              "    <tr>\n",
              "      <th>3</th>\n",
              "      <td>0.016325</td>\n",
              "      <td>0.029133</td>\n",
              "      <td>0.110899</td>\n",
              "      <td>0.551922</td>\n",
              "      <td>0.000204</td>\n",
              "      <td>0.000406</td>\n",
              "      <td>0.000345</td>\n",
              "      <td>0.000150</td>\n",
              "      <td>0.000371</td>\n",
              "      <td>0.000139</td>\n",
              "      <td>0.000708</td>\n",
              "      <td>0.001652</td>\n",
              "      <td>0.004925</td>\n",
              "      <td>0.038925</td>\n",
              "      <td>0.000013</td>\n",
              "      <td>0.000107</td>\n",
              "      <td>0.000081</td>\n",
              "      <td>0.000027</td>\n",
              "      <td>0.000085</td>\n",
              "      <td>0.000013</td>\n",
              "      <td>0.021314</td>\n",
              "      <td>0.037881</td>\n",
              "      <td>0.141333</td>\n",
              "      <td>0.811515</td>\n",
              "      <td>0.000300</td>\n",
              "      <td>0.001238</td>\n",
              "      <td>0.000982</td>\n",
              "      <td>0.000368</td>\n",
              "      <td>0.000949</td>\n",
              "      <td>0.000247</td>\n",
              "    </tr>\n",
              "    <tr>\n",
              "      <th>4</th>\n",
              "      <td>0.009883</td>\n",
              "      <td>0.006985</td>\n",
              "      <td>0.065808</td>\n",
              "      <td>0.631774</td>\n",
              "      <td>0.000049</td>\n",
              "      <td>0.000065</td>\n",
              "      <td>0.000096</td>\n",
              "      <td>0.000051</td>\n",
              "      <td>0.000088</td>\n",
              "      <td>0.000029</td>\n",
              "      <td>0.000369</td>\n",
              "      <td>0.000381</td>\n",
              "      <td>0.002649</td>\n",
              "      <td>0.046002</td>\n",
              "      <td>0.000006</td>\n",
              "      <td>0.000012</td>\n",
              "      <td>0.000028</td>\n",
              "      <td>0.000009</td>\n",
              "      <td>0.000009</td>\n",
              "      <td>0.000002</td>\n",
              "      <td>0.010979</td>\n",
              "      <td>0.008120</td>\n",
              "      <td>0.074137</td>\n",
              "      <td>0.767189</td>\n",
              "      <td>0.000067</td>\n",
              "      <td>0.000100</td>\n",
              "      <td>0.000195</td>\n",
              "      <td>0.000079</td>\n",
              "      <td>0.000115</td>\n",
              "      <td>0.000037</td>\n",
              "    </tr>\n",
              "  </tbody>\n",
              "</table>\n",
              "</div>"
            ],
            "text/plain": [
              "   mean radius  mean texture  ...  worst symmetry  worst fractal dimension\n",
              "0     0.007925      0.004573  ...        0.000203                 0.000052\n",
              "1     0.008666      0.007486  ...        0.000116                 0.000038\n",
              "2     0.009367      0.010109  ...        0.000172                 0.000042\n",
              "3     0.016325      0.029133  ...        0.000949                 0.000247\n",
              "4     0.009883      0.006985  ...        0.000115                 0.000037\n",
              "\n",
              "[5 rows x 30 columns]"
            ]
          },
          "metadata": {},
          "execution_count": 9
        }
      ]
    },
    {
      "cell_type": "code",
      "metadata": {
        "id": "JKzm8iW-YYCO"
      },
      "source": [
        "#Principal Component Analysis\n",
        "pca = PCA(2)\n",
        "  \n",
        "#Transform the data\n",
        "transform = pca.fit_transform(scale)"
      ],
      "execution_count": 11,
      "outputs": []
    },
    {
      "cell_type": "markdown",
      "metadata": {
        "id": "2AdugaBvYzqe"
      },
      "source": [
        "# K-Means Algorithm (from Scratch)\n",
        "\n",
        "Step 1. Randomly pick k data points as the centroids for each k cluster .\n",
        "\n",
        "Step 2. Find the distance (Euclidean distance for our purpose) between each data points in our training set with the k centroids.\n",
        "\n",
        "Step 3. Now add that point to the cluster containing theclosest centroid according to the distance calculated.\n",
        "\n",
        "Step 4. Calculate the new location of the centroid for that cluster by taking the average of the points in each cluster group.\n",
        "\n",
        "Step 5. Repeat the Steps 2 to 4 till the  centroids don’t change.\n"
      ]
    },
    {
      "cell_type": "code",
      "metadata": {
        "id": "bl5S0taWYexj"
      },
      "source": [
        "#we will perform all the steps mentioned above for building k Means algorithm\n",
        "def kmeans(x,k, no_of_iterations):\n",
        "    Index = np.random.choice(len(x), k, replace=False) \n",
        "    centroids = x[Index, :] \n",
        "    distances = cdist(x, centroids ,'euclidean')  \n",
        "    points = np.array([np.argmin(i) for i in distances])\n",
        "    for _ in range(no_of_iterations): \n",
        "        Centroid = []\n",
        "        for i in range(k):\n",
        "            temp= x[points==i].mean(axis=0) \n",
        "            Centroid.append(temp)\n",
        " \n",
        "        Centroid = np.vstack(Centroid)  \n",
        "         \n",
        "        Distance = cdist(x, Centroid ,'euclidean')\n",
        "        Point = np.array([np.argmin(i) for i in Distance])\n",
        "         \n",
        "    return Point"
      ],
      "execution_count": 35,
      "outputs": []
    },
    {
      "cell_type": "code",
      "metadata": {
        "id": "iKPxXQ8oakER"
      },
      "source": [
        "#K means using 3 clusters\n",
        "label = kmeans(transform, 3, 2000)"
      ],
      "execution_count": 42,
      "outputs": []
    },
    {
      "cell_type": "code",
      "metadata": {
        "colab": {
          "base_uri": "https://localhost:8080/",
          "height": 265
        },
        "id": "u8z8oj85a5UV",
        "outputId": "cb411de2-71b7-44bd-ff53-d994f1f5adf2"
      },
      "source": [
        "Label = np.unique(label)\n",
        "for i in Label:\n",
        "    plt.scatter(transform[label == i , 0] , transform[label == i , 1] , label = i)\n",
        "plt.legend()\n",
        "plt.show()"
      ],
      "execution_count": 43,
      "outputs": [
        {
          "output_type": "display_data",
          "data": {
            "image/png": "[encoded data removed]",
            "text/plain": [
              "<Figure size 432x288 with 1 Axes>"
            ]
          },
          "metadata": {
            "needs_background": "light"
          }
        }
      ]
    },
    {
      "cell_type": "code",
      "metadata": {
        "id": "HsnXOo0PcgtK"
      },
      "source": [
        "#K means using 4 clusters\n",
        "label1 = kmeans(transform, 4, 2000)"
      ],
      "execution_count": 44,
      "outputs": []
    },
    {
      "cell_type": "code",
      "metadata": {
        "colab": {
          "base_uri": "https://localhost:8080/",
          "height": 265
        },
        "id": "nAcZiBcsc3LD",
        "outputId": "fdae3ab2-0466-427d-b438-53da966d49c5"
      },
      "source": [
        "Label = np.unique(label1)\n",
        "for i in Label:\n",
        "    plt.scatter(transform[label1 == i , 0] , transform[label1 == i , 1] , label = i)\n",
        "plt.legend()\n",
        "plt.show()"
      ],
      "execution_count": 46,
      "outputs": [
        {
          "output_type": "display_data",
          "data": {
            "image/png": "[encoded data removed]",
            "text/plain": [
              "<Figure size 432x288 with 1 Axes>"
            ]
          },
          "metadata": {
            "needs_background": "light"
          }
        }
      ]
    }
  ]
}